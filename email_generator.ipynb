{
 "cells": [
  {
   "cell_type": "code",
   "execution_count": 1,
   "id": "0eccd20e",
   "metadata": {},
   "outputs": [],
   "source": [
    "from langchain_groq import ChatGroq"
   ]
  },
  {
   "cell_type": "code",
   "execution_count": null,
   "id": "c16ff50e",
   "metadata": {},
   "outputs": [
    {
     "name": "stdout",
     "output_type": "stream",
     "text": [
      "The NITI Aayog (National Institution for Transforming India) is a policy think tank of the Government of India, established on January 1, 2015, to replace the Planning Commission of India. It aims to foster cooperative federalism through shared vision and knowledge sharing between the Centre and States. The NITI Aayog is headed by the Prime Minister of India, with a governing council comprising the Chief Ministers of all States and Union Territories, and experts in various fields. The institution's main objectives include promoting sustainable development, enhancing the quality of life for citizens, and fostering a culture of innovation and entrepreneurship. It also provides a platform for the Centre and States to work together to address the country's development challenges and achieve the United Nations' Sustainable Development Goals (SDGs).\n"
     ]
    }
   ],
   "source": [
    "llm = ChatGroq(\n",
    "    temperature=0, \n",
    "    groq_api_key='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', \n",
    "    model_name=\"llama-3.1-70b-versatile\"\n",
    ")\n",
    "response = llm.invoke(\"Tell me in 1 paragraph about NITI Ayog in India ...\")\n",
    "print(response.content)"
   ]
  },
  {
   "cell_type": "code",
   "execution_count": null,
   "id": "3e8b8294-10d7-4a85-b274-c30107ac95b8",
   "metadata": {},
   "outputs": [],
   "source": [
    "#pip install -U langchain_community"
   ]
  },
  {
   "cell_type": "code",
   "execution_count": null,
   "id": "90d33612",
   "metadata": {},
   "outputs": [
    {
     "name": "stderr",
     "output_type": "stream",
     "text": [
      "USER_AGENT environment variable not set, consider setting it to identify your requests.\n"
     ]
    },
    {
     "name": "stdout",
     "output_type": "stream",
     "text": [
      "Apply for Machine Learning Engineer - Supply Chain\n",
      "\n",
      "Search JobsSkip navigationSearch JobsNIKE, INC. JOBSContract JobsJoin The Talent CommunityLife @ NikeOverviewBenefitsBrandsOverviewJordanConverseTeamsOverviewAdministrative SupportAdvanced InnovationAir Manufacturing InnovationAviationCommunicationsCustomer ServiceDesignDigitalFacilitiesFinance & AccountingGovernment & Public AffairsHuman ResourcesInsights & AnalyticsLegalManufacturing & EngineeringMarketingMerchandisingPlanningPrivacyProcurementProduct Creation, Development & ManagementRetail CorporateRetail StoresSalesSocial & Community ImpactSports MarketingStrategic PlanningSupply Chain, Distribution & LogisticsSustainabilityTechnologyLocationsOverviewNike WHQNike New York HQEHQ: Hilversum, The NetherlandsELC: Laakdal, BelgiumGreater China HQDiversity, Equity & InclusionOverviewMilitary InclusionDisability InclusionIndigenous InclusionInternshipsData & AnalyticsMachine Learning Engineer - Supply ChainBeaverton, OregonBecome a Part of the NIKE, Inc. Team\n",
      "NIKE, Inc. does more than outfit the world’s best athletes. It is a place to explore potential, obliterate boundaries and push out the edges of what can be. The company looks for people who can grow, think, dream and create. Its culture thrives by embracing diversity and rewarding imagination. The brand seeks achievers, leaders and visionaries. At NIKE, Inc. it’s about each person bringing skills and passion to a challenging and constantly evolving game.Open to remote work except in South Dakota, Vermont and West Virginia.The annual base salary for this position ranges from $82,900.00 in our lowest geographic market to $185,700.00 in our highest geographic market. Actual salary will vary based on a candidate's location, qualifications, skills and experience.Information about benefits can be found here. This posting is for two positions within the Enterprise AI/ML function.WHO ARE WE LOOKING FORWe seek passionate engineers to join our team!  As a Machine Learning Engineer, you will develop robust advanced analytics and machine learning solutions that have a direct impact on the Supply Chain infrastructure.  You should have experience in Python; a strong background in algorithms and data structures; hands-on AWS experience; as well as experience in database technology (e.g. Postgres, Redis) and data processing technology (e.g. EMR).  You should also have a demonstrable history of team leadership and value delivery, and be comfortable working in an agile product model.  As a ML Engineer, you will be expected to own projects end-to-end - from conception to operationalization, demonstrating an understanding of the full software development lifecycle.  As a result, you will be expected to provide technical vision and guidance to your teammates; therefore, strong communication skills are critical in this role. WHAT WILL YOU WORK ONIf this is you, you’ll be working with the Artificial Intelligence and Machine Learning (AI/ML) team at Nike.  With teammates in Portland, Boston, and Poland, you’ll be joining a global organization working to solve machine learning problems at scale.  You’ll be designing and implementing scalable applications that leverage prediction models and optimization programs to deliver data driven decisions that result in immense business impact.  You’ll also contribute to core advanced analytics and machine learning platforms and tools to enable both prediction and optimization model development.  You thrive when surrounded by talented colleagues and aim to never stop learning. We are looking for candidates who enjoy a collaborative and academic environment where we develop and share new skills, mentor, and contribute knowledge and software back to the analytics and engineering communities both within Nike and at-large.We value and nurture our culture by seeking to always be collaborative, intellectually curious, fun, open, and diverse.WHO WILL YOU WORK WITHIn this role, you’ll be working closely with the rest of our global team, along with commercial and consumer analytics, and enterprise architecture teams. You will report to the director of Supply Chain AI/ML Engineering.WHAT YOU BRING Bachelor's degree in Computer Science, or combination of relevant education, experience.1-3 years of professional experience in software engineering, data engineering, machine learning, or related fieldA demonstrated problem solving and analytical mindsetAbility to write robust, maintainable, and extendable code in Python; containerized in Docker, and automated with CI/CDExperience with agile development and test driven developmentUnderstanding of data structures, data modeling and software architectureExperience with data sets, ETL pipelines, SQL, and general data engineeringExposure to MLOps, API development, or mathematical optimization are highly desirableExperience with cloud architecture and technologies, in particular Amazon Web ServicesExperience with technologies like Spark, Kubernetes, Docker, Jenkins, Databricks, Terraform is also highly desirableEffective communication skills (with team members, the business, and in code)NIKE, Inc. is a growth company that looks for team members to grow with it. Nike offers a generous total rewards package, casual work environment, a diverse and inclusive culture, and an electric atmosphere for professional development. No matter the location, or the role, every Nike employee shares one galvanizing mission: To bring inspiration and innovation to every athlete* in the world.NIKE, Inc. is committed to employing a diverse workforce. Qualified applicants will receive consideration without regard to race, color, religion, sex, national origin, age, sexual orientation, gender identity, gender expression, veteran status, or disability.How We HireAt NIKE, Inc. we promise to provide a premium, inclusive, compelling and authentic candidate experience. Delivering on this promise means we allow you to be at your best — and to do that, you need to understand how the hiring process works. Transparency is key.\n",
      "\n",
      "* This overview explains our hiring process for corporate roles. Note there may be different hiring steps involved for non-corporate roles.Start nowBenefitsWhether it’s transportation or financial health, we continually invest in our employees to help them achieve greatness — inside and outside of work. All who work here should be able to realize their full potential.Employee Assistance ProgramEmployee Stock Purchase Plan (ESPP)HolidaysMedical PlanPaid Time Off (PTO)Product DiscountsSabbaticalsLearn moreFIND A STOREBECOME A MEMBERSIGN UP FOR EMAILSEND US FEEDBACKSTUDENT DISCOUNTSGET HELPGET HELPOrder StatusDeliveryReturnsPayment OptionsContact Us On Nike.com InquiriesContact Us On All Other InquiriesABOUT NIKEABOUT NIKENewsCareersInvestorsSustainabilityIndia© 2024 Nike, Inc. All Rights ReservedGuidesNike AdaptNike Air MaxNike FlyleatherNike PegasusNike Zoom FlyNike AirNike FlyEaseNike FreeNike ReactNike ZoomXNike Air Force 1Nike FlyknitNike JoyrideNike VaporflyTerms of SaleTerms of UseNike Privacy Policy\n"
     ]
    }
   ],
   "source": [
    "from langchain_community.document_loaders import WebBaseLoader\n",
    "\n",
    "loader = WebBaseLoader(\"https://www.amazon.jobs/en/jobs/2748098/business-intelligence-engineer-decision-science-and-technology-ast\")\n",
    "page_data = loader.load().pop().page_content\n",
    "print(page_data)"
   ]
  },
  {
   "cell_type": "code",
   "execution_count": 7,
   "id": "85c89a57",
   "metadata": {},
   "outputs": [
    {
     "data": {
      "text/plain": [
       "str"
      ]
     },
     "execution_count": 7,
     "metadata": {},
     "output_type": "execute_result"
    }
   ],
   "source": [
    "from langchain_core.prompts import PromptTemplate\n",
    "\n",
    "prompt_extract = PromptTemplate.from_template(\n",
    "        \"\"\"\n",
    "        ### SCRAPED TEXT FROM WEBSITE:\n",
    "        {page_data}\n",
    "        ### INSTRUCTION:\n",
    "        The scraped text is from the career's page of a website.\n",
    "        Your job is to extract the job postings and return them in JSON format containing the \n",
    "        following keys: `role`, `experience`, `skills` and `description`.\n",
    "        Only return the valid JSON.\n",
    "        ### VALID JSON (NO PREAMBLE):    \n",
    "        \"\"\"\n",
    ")\n",
    "\n",
    "chain_extract = prompt_extract | llm \n",
    "res = chain_extract.invoke(input={'page_data':page_data})\n",
    "type(res.content)"
   ]
  },
  {
   "cell_type": "code",
   "execution_count": 9,
   "id": "5415fd54",
   "metadata": {},
   "outputs": [
    {
     "data": {
      "text/plain": [
       "{'role': 'Machine Learning Engineer - Supply Chain',\n",
       " 'experience': '1-3 years of professional experience in software engineering, data engineering, machine learning, or related field',\n",
       " 'skills': ['Python',\n",
       "  'algorithms and data structures',\n",
       "  'AWS',\n",
       "  'database technology (e.g. Postgres, Redis)',\n",
       "  'data processing technology (e.g. EMR)',\n",
       "  'agile development',\n",
       "  'test driven development',\n",
       "  'MLOps',\n",
       "  'API development',\n",
       "  'mathematical optimization',\n",
       "  'cloud architecture',\n",
       "  'Amazon Web Services',\n",
       "  'Spark',\n",
       "  'Kubernetes',\n",
       "  'Docker',\n",
       "  'Jenkins',\n",
       "  'Databricks',\n",
       "  'Terraform'],\n",
       " 'description': 'Develop robust advanced analytics and machine learning solutions that have a direct impact on the Supply Chain infrastructure. Design and implement scalable applications that leverage prediction models and optimization programs to deliver data driven decisions that result in immense business impact. Contribute to core advanced analytics and machine learning platforms and tools to enable both prediction and optimization model development.'}"
      ]
     },
     "execution_count": 9,
     "metadata": {},
     "output_type": "execute_result"
    }
   ],
   "source": [
    "from langchain_core.output_parsers import JsonOutputParser\n",
    "\n",
    "json_parser = JsonOutputParser()\n",
    "json_res = json_parser.parse(res.content)\n",
    "json_res"
   ]
  },
  {
   "cell_type": "code",
   "execution_count": 11,
   "id": "39961ed6",
   "metadata": {},
   "outputs": [
    {
     "data": {
      "text/plain": [
       "dict"
      ]
     },
     "execution_count": 11,
     "metadata": {},
     "output_type": "execute_result"
    }
   ],
   "source": [
    "type(json_res)"
   ]
  },
  {
   "cell_type": "code",
   "execution_count": 13,
   "id": "1e8a0f74",
   "metadata": {},
   "outputs": [
    {
     "data": {
      "text/html": [
       "<div>\n",
       "<style scoped>\n",
       "    .dataframe tbody tr th:only-of-type {\n",
       "        vertical-align: middle;\n",
       "    }\n",
       "\n",
       "    .dataframe tbody tr th {\n",
       "        vertical-align: top;\n",
       "    }\n",
       "\n",
       "    .dataframe thead th {\n",
       "        text-align: right;\n",
       "    }\n",
       "</style>\n",
       "<table border=\"1\" class=\"dataframe\">\n",
       "  <thead>\n",
       "    <tr style=\"text-align: right;\">\n",
       "      <th></th>\n",
       "      <th>Techstack</th>\n",
       "      <th>Links</th>\n",
       "    </tr>\n",
       "  </thead>\n",
       "  <tbody>\n",
       "    <tr>\n",
       "      <th>0</th>\n",
       "      <td>React, Node.js, MongoDB</td>\n",
       "      <td>https://example.com/react-portfolio</td>\n",
       "    </tr>\n",
       "    <tr>\n",
       "      <th>1</th>\n",
       "      <td>Angular,.NET, SQL Server</td>\n",
       "      <td>https://example.com/angular-portfolio</td>\n",
       "    </tr>\n",
       "    <tr>\n",
       "      <th>2</th>\n",
       "      <td>Vue.js, Ruby on Rails, PostgreSQL</td>\n",
       "      <td>https://example.com/vue-portfolio</td>\n",
       "    </tr>\n",
       "    <tr>\n",
       "      <th>3</th>\n",
       "      <td>Python, Django, MySQL</td>\n",
       "      <td>https://example.com/python-portfolio</td>\n",
       "    </tr>\n",
       "    <tr>\n",
       "      <th>4</th>\n",
       "      <td>Java, Spring Boot, Oracle</td>\n",
       "      <td>https://example.com/java-portfolio</td>\n",
       "    </tr>\n",
       "    <tr>\n",
       "      <th>5</th>\n",
       "      <td>Flutter, Firebase, GraphQL</td>\n",
       "      <td>https://example.com/flutter-portfolio</td>\n",
       "    </tr>\n",
       "    <tr>\n",
       "      <th>6</th>\n",
       "      <td>WordPress, PHP, MySQL</td>\n",
       "      <td>https://example.com/wordpress-portfolio</td>\n",
       "    </tr>\n",
       "    <tr>\n",
       "      <th>7</th>\n",
       "      <td>Magento, PHP, MySQL</td>\n",
       "      <td>https://example.com/magento-portfolio</td>\n",
       "    </tr>\n",
       "    <tr>\n",
       "      <th>8</th>\n",
       "      <td>React Native, Node.js, MongoDB</td>\n",
       "      <td>https://example.com/react-native-portfolio</td>\n",
       "    </tr>\n",
       "    <tr>\n",
       "      <th>9</th>\n",
       "      <td>iOS, Swift, Core Data</td>\n",
       "      <td>https://example.com/ios-portfolio</td>\n",
       "    </tr>\n",
       "    <tr>\n",
       "      <th>10</th>\n",
       "      <td>Android, Java, Room Persistence</td>\n",
       "      <td>https://example.com/android-portfolio</td>\n",
       "    </tr>\n",
       "    <tr>\n",
       "      <th>11</th>\n",
       "      <td>Kotlin, Android, Firebase</td>\n",
       "      <td>https://example.com/kotlin-android-portfolio</td>\n",
       "    </tr>\n",
       "    <tr>\n",
       "      <th>12</th>\n",
       "      <td>Android TV, Kotlin, Android NDK</td>\n",
       "      <td>https://example.com/android-tv-portfolio</td>\n",
       "    </tr>\n",
       "    <tr>\n",
       "      <th>13</th>\n",
       "      <td>iOS, Swift, ARKit</td>\n",
       "      <td>https://example.com/ios-ar-portfolio</td>\n",
       "    </tr>\n",
       "    <tr>\n",
       "      <th>14</th>\n",
       "      <td>Cross-platform, Xamarin, Azure</td>\n",
       "      <td>https://example.com/xamarin-portfolio</td>\n",
       "    </tr>\n",
       "    <tr>\n",
       "      <th>15</th>\n",
       "      <td>Backend, Kotlin, Spring Boot</td>\n",
       "      <td>https://example.com/kotlin-backend-portfolio</td>\n",
       "    </tr>\n",
       "    <tr>\n",
       "      <th>16</th>\n",
       "      <td>Frontend, TypeScript, Angular</td>\n",
       "      <td>https://example.com/typescript-frontend-portfolio</td>\n",
       "    </tr>\n",
       "    <tr>\n",
       "      <th>17</th>\n",
       "      <td>Full-stack, JavaScript, Express.js</td>\n",
       "      <td>https://example.com/full-stack-js-portfolio</td>\n",
       "    </tr>\n",
       "    <tr>\n",
       "      <th>18</th>\n",
       "      <td>Machine Learning, Python, TensorFlow</td>\n",
       "      <td>https://example.com/ml-python-portfolio</td>\n",
       "    </tr>\n",
       "    <tr>\n",
       "      <th>19</th>\n",
       "      <td>DevOps, Jenkins, Docker</td>\n",
       "      <td>https://example.com/devops-portfolio</td>\n",
       "    </tr>\n",
       "  </tbody>\n",
       "</table>\n",
       "</div>"
      ],
      "text/plain": [
       "                               Techstack  \\\n",
       "0                React, Node.js, MongoDB   \n",
       "1               Angular,.NET, SQL Server   \n",
       "2      Vue.js, Ruby on Rails, PostgreSQL   \n",
       "3                  Python, Django, MySQL   \n",
       "4              Java, Spring Boot, Oracle   \n",
       "5             Flutter, Firebase, GraphQL   \n",
       "6                  WordPress, PHP, MySQL   \n",
       "7                    Magento, PHP, MySQL   \n",
       "8         React Native, Node.js, MongoDB   \n",
       "9                  iOS, Swift, Core Data   \n",
       "10       Android, Java, Room Persistence   \n",
       "11             Kotlin, Android, Firebase   \n",
       "12       Android TV, Kotlin, Android NDK   \n",
       "13                     iOS, Swift, ARKit   \n",
       "14        Cross-platform, Xamarin, Azure   \n",
       "15          Backend, Kotlin, Spring Boot   \n",
       "16         Frontend, TypeScript, Angular   \n",
       "17    Full-stack, JavaScript, Express.js   \n",
       "18  Machine Learning, Python, TensorFlow   \n",
       "19               DevOps, Jenkins, Docker   \n",
       "\n",
       "                                                Links  \n",
       "0                 https://example.com/react-portfolio  \n",
       "1               https://example.com/angular-portfolio  \n",
       "2                   https://example.com/vue-portfolio  \n",
       "3                https://example.com/python-portfolio  \n",
       "4                  https://example.com/java-portfolio  \n",
       "5               https://example.com/flutter-portfolio  \n",
       "6             https://example.com/wordpress-portfolio  \n",
       "7               https://example.com/magento-portfolio  \n",
       "8          https://example.com/react-native-portfolio  \n",
       "9                   https://example.com/ios-portfolio  \n",
       "10              https://example.com/android-portfolio  \n",
       "11       https://example.com/kotlin-android-portfolio  \n",
       "12           https://example.com/android-tv-portfolio  \n",
       "13               https://example.com/ios-ar-portfolio  \n",
       "14              https://example.com/xamarin-portfolio  \n",
       "15       https://example.com/kotlin-backend-portfolio  \n",
       "16  https://example.com/typescript-frontend-portfolio  \n",
       "17        https://example.com/full-stack-js-portfolio  \n",
       "18            https://example.com/ml-python-portfolio  \n",
       "19               https://example.com/devops-portfolio  "
      ]
     },
     "execution_count": 13,
     "metadata": {},
     "output_type": "execute_result"
    }
   ],
   "source": [
    "import pandas as pd\n",
    "\n",
    "df = pd.read_csv(\"my_portfolio.csv\")\n",
    "df"
   ]
  },
  {
   "cell_type": "code",
   "execution_count": 15,
   "id": "f7e888d4",
   "metadata": {},
   "outputs": [],
   "source": [
    "import uuid\n",
    "import chromadb\n",
    "\n",
    "client = chromadb.PersistentClient('vectorstore')\n",
    "collection = client.get_or_create_collection(name=\"portfolio\")\n",
    "\n",
    "if not collection.count():\n",
    "    for _, row in df.iterrows():\n",
    "        collection.add(documents=row[\"Techstack\"],\n",
    "                       metadatas={\"links\": row[\"Links\"]},\n",
    "                       ids=[str(uuid.uuid4())])"
   ]
  },
  {
   "cell_type": "code",
   "execution_count": 17,
   "id": "39ad2fa2",
   "metadata": {},
   "outputs": [
    {
     "data": {
      "text/plain": [
       "[[{'links': 'https://example.com/react-portfolio'},\n",
       "  {'links': 'https://example.com/react-native-portfolio'}],\n",
       " [{'links': 'https://example.com/ml-python-portfolio'},\n",
       "  {'links': 'https://example.com/python-portfolio'}]]"
      ]
     },
     "execution_count": 17,
     "metadata": {},
     "output_type": "execute_result"
    }
   ],
   "source": [
    "links = collection.query(query_texts=['Experience in React', 'Expertise in TensorFlow'], n_results=2).get('metadatas', [])\n",
    "links"
   ]
  },
  {
   "cell_type": "code",
   "execution_count": 19,
   "id": "1ccfd720",
   "metadata": {},
   "outputs": [
    {
     "data": {
      "text/plain": [
       "['Python',\n",
       " 'algorithms and data structures',\n",
       " 'AWS',\n",
       " 'database technology (e.g. Postgres, Redis)',\n",
       " 'data processing technology (e.g. EMR)',\n",
       " 'agile development',\n",
       " 'test driven development',\n",
       " 'MLOps',\n",
       " 'API development',\n",
       " 'mathematical optimization',\n",
       " 'cloud architecture',\n",
       " 'Amazon Web Services',\n",
       " 'Spark',\n",
       " 'Kubernetes',\n",
       " 'Docker',\n",
       " 'Jenkins',\n",
       " 'Databricks',\n",
       " 'Terraform']"
      ]
     },
     "execution_count": 19,
     "metadata": {},
     "output_type": "execute_result"
    }
   ],
   "source": [
    "job = json_res\n",
    "job['skills']"
   ]
  },
  {
   "cell_type": "code",
   "execution_count": 25,
   "id": "64a97dd2",
   "metadata": {},
   "outputs": [
    {
     "name": "stdout",
     "output_type": "stream",
     "text": [
      "Subject: Application for Machine Learning Engineer - Supply Chain Position\n",
      "\n",
      "Dear Hiring Manager,\n",
      "\n",
      "I am excited to apply for the Machine Learning Engineer - Supply Chain position at your esteemed organization. With a strong background in data analytics and machine learning, I am confident that I can develop robust advanced analytics and machine learning solutions that drive business impact in the supply chain infrastructure.\n",
      "\n",
      "As a PGDM - Big Data Analytics student at Goa Institute of Management, I have developed a solid foundation in machine learning, data engineering, and software engineering. My experience as a Data Analytics & Data Management Intern at NASSCOM has provided me with hands-on experience in data analysis, automation, and visualization. I successfully led a data cleansing and automation project, improving client engagement and outreach by enhancing data quality and streamlining processes. I also created a dynamic Power BI dashboard, significantly enhancing data accuracy and providing actionable insights for improved decision-making.\n",
      "\n",
      "My academic achievements and certifications demonstrate my expertise in machine learning and data analytics. I was a national winner in the \"WeShleshan 2024\" Business Case Study Competition, addressing a supply chain challenge, and secured 3rd rank in the Python Challenge Bootcamp conducted in GIM. I am also certified in Prompt Engineering for generative AI, AI for Managers, and Python.\n",
      "\n",
      "In my live/academic projects, I have applied machine learning techniques to solve real-world problems. For instance, in my Employee Churn Rate Analysis & Prediction project, I developed and deployed a predictive model utilizing Gradient Boosting Classifier, achieving 97% accuracy in forecasting employee turnover.\n",
      "\n",
      "I am proficient in a range of software packages and programming languages, including Python, SQL, R, Microsoft Power BI, Tableau, Apache Spark, and SAS Studio.\n",
      "\n",
      "To showcase my portfolio, I would like to share the following links:\n",
      "\n",
      "* https://example.com/ml-python-portfolio (Machine Learning with Python)\n",
      "* https://example.com/python-portfolio (Python projects)\n",
      "\n",
      "I am excited about the opportunity to contribute to the development of advanced analytics and machine learning solutions that drive business impact in the supply chain infrastructure. Thank you for considering my application. I look forward to discussing my qualifications further.\n",
      "\n",
      "Best regards,\n",
      "Agam Pandey\n"
     ]
    }
   ],
   "source": [
    "prompt_email = PromptTemplate.from_template(\n",
    "        \"\"\"\n",
    "        ### JOB DESCRIPTION:\n",
    "        {job_description}\n",
    "        \n",
    "        ### INSTRUCTION:\n",
    "        You are Agam Pandey, a PGDM - Big Data Analytics student at Goa Institute of Management. You are in the final year of your course completion.\n",
    "        This is a part of your resume so pick out the key elements from this resume that aligns with the job description draft the email accordingly, \"NASSCOM, Noida            Data Analytics & Data Management Intern                                                  May’24-Sept’24 \n",
    "Data Analysis & \n",
    "Management \n",
    "• Led a data cleansing and automation project for NASSCOM’s existing client database to support the Future Works \n",
    "event, focusing on improving client engagement and outreach by enhancing data quality, streamlining processes \n",
    "• Automated database management using Selenium, reducing manual data entry by 70%, while identifying potential \n",
    "clients and ensuring that the dataset remains up-to-date and accurate for targeted marketing \n",
    "• Created a dynamic Power BI dashboard by consolidating 6 years of event data using Python, significantly enhancing \n",
    "data accuracy by 25% through ETL processes to provide actionable insights for improved decision-making \n",
    "• Extracted actionable insights from multi-year event data, identifying key trends in attendee growth and demographic \n",
    "profiles, leading to a 10% increase in event attendance and better event performance forecasting \n",
    "• Improved decision-making for NASSCOM’s Konnect team by delivering a comprehensive analysis of revenue patterns \n",
    "and company participation, contributing to a 20% improvement in event management efficiency \n",
    "Academic Record \n",
    "PGDM – Big Data Analytics 2023 – 25 Goa Institute of Management, Goa 5.53/8.0 (till 3rd trimester) \n",
    "B. Tech (ECE) 2015 – 19 Galgotias College of Engineering & Technology 76.18% \n",
    "HSC - Science 2013 – 15 City Montessori School, Gomti Nagar 1 94.75% \n",
    "SSC - General 2011 – 13 City Montessori School, Gomti Nagar 1 94.60% \n",
    " \n",
    "Academic Achievements & Certifications \n",
    "• National winners in the \"WeShleshan 2024\" Business Case Study Competition, addressing a supply chain challenge among 668 top B-School teams \n",
    "• Advanced to the penultimate round of Bitathon Hackathon 2024, a 24-hour event by Goa Institute of Management, competing against 1315 teams \n",
    "• Progressed to the Round 3 penultimate stage of Tata Imagination Challenge 2023, amidst stiff competition from 2,63,652 registered candidates \n",
    "• Secured 3rd rank in the Python Challenge Bootcamp conducted in GIM out of a total of more than 90 teams and 540 participants \n",
    "• Awarded First Division with Honors in Under graduation and constantly being in the Top 5% of the batch for all 4 years \n",
    "• Earned a certification in Prompt Engineering for generative AI by LinkedIn, 2024 \n",
    "• Certified in AI for Managers by Microsoft and LinkedIn, 2024  \n",
    "• Certified in Python by Coursera and IBM, 2023 \n",
    "Live/ Academic Projects \n",
    "Employee Churn \n",
    "Rate Analysis & \n",
    "Prediction \n",
    "• Performed exploratory data analysis (EDA) and visualization using Python to identify key employee churn factors, \n",
    "leveraging clustering techniques to segment employees based on behaviour and churn risk \n",
    "• Conducted K-means clustering to identify and categorize employee segments based on satisfaction and evaluation \n",
    "scores, uncovering distinct churn risk profiles and informing targeted retention strategies and interventions \n",
    "• Developed and deployed a predictive model utilizing Gradient Boosting Classifier, achieving 97% accuracy in \n",
    "forecasting employee turnover. The model was trained on features such as number of projects, workload, and salary \n",
    "levels, enabling precise predictions and informed decision-making to address potential employee churn \n",
    "• Evaluated model performance using precision and recall metrics, achieving a precision score of 95% and recall of \n",
    "92%, demonstrating the model’s ability to accurately predict employees at risk of leaving. These insights supported \n",
    "the development of retention strategies in a simulated environment\n",
    "Core Competencies - \n",
    "Software Packages • Microsoft Power BI, Tableau, Azure ML Studio, Apache Spark, SAS Studio, Microsoft Excel, Microsoft PowerPoint \n",
    "Programming  • Python, SQL, R\"\n",
    "\n",
    "        Your job is to write a cold email to the client regarding the job mentioned above describing the your capability \n",
    "        in fulfilling their needs.\n",
    "        Also add the most relevant ones from the following links to showcase your portfolio: {link_list}\n",
    "        Do not provide a preamble.\n",
    "        ### EMAIL (NO PREAMBLE):\n",
    "        \n",
    "        \"\"\"\n",
    "        )\n",
    "\n",
    "chain_email = prompt_email | llm\n",
    "res = chain_email.invoke({\"job_description\": str(job), \"link_list\": links})\n",
    "print(res.content)"
   ]
  },
  {
   "cell_type": "code",
   "execution_count": null,
   "id": "9bc9a205-a98e-4685-bd66-9c467b1d5baa",
   "metadata": {},
   "outputs": [],
   "source": []
  }
 ],
 "metadata": {
  "kernelspec": {
   "display_name": "Python 3 (ipykernel)",
   "language": "python",
   "name": "python3"
  },
  "language_info": {
   "codemirror_mode": {
    "name": "ipython",
    "version": 3
   },
   "file_extension": ".py",
   "mimetype": "text/x-python",
   "name": "python",
   "nbconvert_exporter": "python",
   "pygments_lexer": "ipython3",
   "version": "3.11.3"
  }
 },
 "nbformat": 4,
 "nbformat_minor": 5
}
